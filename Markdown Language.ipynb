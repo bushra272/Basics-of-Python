{
 "cells": [
  {
   "cell_type": "markdown",
   "id": "9fb21789-5abd-4b95-88f0-96fe08c04f8b",
   "metadata": {},
   "source": [
    "# Heading ..............   \n",
    "[two things to take care.... to italic use *   *  for bold **   **]\n",
    "[Always use space after #]\n",
    "use hastags like this \n",
    "\n",
    "# **I am Bushra Qayyum**\n",
    "## I am learning Python \n",
    "### I am learning it online from different sources\n",
    "    1- YouTube\n",
    "    2-AI Institute Pakistan \n",
    "\n"
   ]
  },
  {
   "cell_type": "code",
   "execution_count": null,
   "id": "b9f4a9c0-af89-4e44-944f-3bc9e36f1cf8",
   "metadata": {},
   "outputs": [],
   "source": []
  }
 ],
 "metadata": {
  "kernelspec": {
   "display_name": "Python [conda env:base] *",
   "language": "python",
   "name": "conda-base-py"
  },
  "language_info": {
   "codemirror_mode": {
    "name": "ipython",
    "version": 3
   },
   "file_extension": ".py",
   "mimetype": "text/x-python",
   "name": "python",
   "nbconvert_exporter": "python",
   "pygments_lexer": "ipython3",
   "version": "3.12.7"
  }
 },
 "nbformat": 4,
 "nbformat_minor": 5
}
