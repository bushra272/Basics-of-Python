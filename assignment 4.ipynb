{
 "cells": [
  {
   "cell_type": "code",
   "execution_count": 15,
   "id": "3303c72f-ca2e-43ff-b3c0-425fc54efdf7",
   "metadata": {},
   "outputs": [
    {
     "name": "stdout",
     "output_type": "stream",
     "text": [
      "she cannot vote\n"
     ]
    }
   ],
   "source": [
    "#Find the vote eligibility\n",
    "Hamna_age=15\n",
    "if  Hamna_age>18:\n",
    "    print(\"she can vote\")\n",
    "else:\n",
    "    print(\"she cannot vote\")\n",
    "\n",
    "\n"
   ]
  },
  {
   "cell_type": "code",
   "execution_count": 19,
   "id": "0b485271-1063-43fa-97c5-aed89d2b1a76",
   "metadata": {},
   "outputs": [
    {
     "name": "stdout",
     "output_type": "stream",
     "text": [
      "noor cannot go to school\n"
     ]
    }
   ],
   "source": [
    "current_noor_age=10\n",
    "age_to_enter_the_school=12\n",
    "if current_noor_age>age_to_enter_the_school:\n",
    "    print(\"noor can go to school\")\n",
    "elif(current_noor_age==age_to_enter_the_school):\n",
    "    print(\"noor can enter school\")\n",
    "else:\n",
    "    print(\"noor cannot go to school\")\n",
    "    "
   ]
  },
  {
   "cell_type": "code",
   "execution_count": 21,
   "id": "c920a9ef-2e93-48e7-8828-5a8de76a427d",
   "metadata": {},
   "outputs": [
    {
     "name": "stdout",
     "output_type": "stream",
     "text": [
      "number is negative\n"
     ]
    }
   ],
   "source": [
    "#Check if number is positive, negative, or zero\n",
    "number=-97\n",
    "if number>0:\n",
    "    print(\"number is positive\")\n",
    "else:\n",
    "    print(\"number is negative\")\n",
    "    \n",
    "    "
   ]
  },
  {
   "cell_type": "code",
   "execution_count": 23,
   "id": "a654eb9b-c008-448f-b82a-c5e38eb845e6",
   "metadata": {},
   "outputs": [
    {
     "name": "stdout",
     "output_type": "stream",
     "text": [
      "number is positive but not in range\n"
     ]
    }
   ],
   "source": [
    "#Check if number is positive, negative, or zero\n",
    "number=100\n",
    "if number<-10:\n",
    "    print(\"number is negative\")\n",
    "elif number>0<50:\n",
    "    print(\"number is positive but not in range\")\n",
    "elif number>0:\n",
    "    print(\"number is positive\")\n",
    "else:\n",
    "    print(\"number is zero\")"
   ]
  },
  {
   "cell_type": "code",
   "execution_count": 27,
   "id": "e4736b74-4bff-4cbc-9365-047b28616beb",
   "metadata": {},
   "outputs": [
    {
     "name": "stdout",
     "output_type": "stream",
     "text": [
      "number is zero\n"
     ]
    }
   ],
   "source": [
    "#Check if number is positive, negative, or zero\n",
    "number=0\n",
    "if number>0:\n",
    "    print(\"number is not zero\")\n",
    "elif number==0:\n",
    "    print(\"number is zero\")"
   ]
  },
  {
   "cell_type": "code",
   "execution_count": 32,
   "id": "8964c598-26ce-41c1-91e3-cfbe3923fd82",
   "metadata": {},
   "outputs": [
    {
     "name": "stdout",
     "output_type": "stream",
     "text": [
      "Grade:B\n"
     ]
    }
   ],
   "source": [
    "#allocating grades according to given criteria\n",
    "\n",
    "obtained_marks=87\n",
    "if obtained_marks<60:\n",
    "    print(\"Grade:F\")\n",
    "elif obtained_marks>60 and obtained_marks <70:\n",
    "    print(\"Grade:D\")\n",
    "elif obtained_marks>70 and obtained_marks <80:\n",
    "    print(\"Grade:C\")\n",
    "elif obtained_marks>80 and obtained_marks<90:\n",
    "    print(\"Grade:B\")\n",
    "else:\n",
    "    Print(\"Grade:A\")"
   ]
  },
  {
   "cell_type": "code",
   "execution_count": 34,
   "id": "6d858a41-23f9-447e-84a8-360ccf220f6b",
   "metadata": {},
   "outputs": [
    {
     "name": "stdout",
     "output_type": "stream",
     "text": [
      "I can vote\n"
     ]
    }
   ],
   "source": [
    "#to find the vote eligibility\n",
    "age=30\n",
    "if age<18:\n",
    "    print(\"I cannot vote\")\n",
    "else:\n",
    "    print(\"I can vote\")\n",
    "    "
   ]
  },
  {
   "cell_type": "code",
   "execution_count": 40,
   "id": "05d5f1e4-40ae-4122-95e5-4e64cc053db5",
   "metadata": {},
   "outputs": [
    {
     "name": "stdout",
     "output_type": "stream",
     "text": [
      "Total fare: $15\n"
     ]
    }
   ],
   "source": [
    "#Calculate the total fare based on the input ditance by user\n",
    "\n",
    "distance = 20.0\n",
    "\n",
    "base_fare = 5\n",
    "if distance > 10:\n",
    "    extra_charge = (20 - 10) * 1\n",
    "    total_fare = base_fare + extra_charge\n",
    "else:\n",
    "    total_fare = base_fare\n",
    "\n",
    "print(f\"Total fare: ${total_fare}\")"
   ]
  },
  {
   "cell_type": "code",
   "execution_count": 43,
   "id": "8122d46c-c8bb-4f3a-978f-6ac1350a11c5",
   "metadata": {},
   "outputs": [
    {
     "name": "stdout",
     "output_type": "stream",
     "text": [
      "Total salary: $1070.0\n"
     ]
    }
   ],
   "source": [
    "#Calculate total salary to apply for bonus\n",
    "total_years_of_service = 5\n",
    "\n",
    "base_salary = 1000  \n",
    "bonus_rate = 0.07\n",
    "\n",
    "if total_years_of_service > 3:\n",
    "    bonus = base_salary * bonus_rate\n",
    "else:\n",
    "    bonus = 0\n",
    "\n",
    "total_salary = base_salary + bonus\n",
    "\n",
    "print(f\"Total salary: ${total_salary}\")\n",
    "\n"
   ]
  },
  {
   "cell_type": "code",
   "execution_count": 54,
   "id": "5980424a-ad46-4e17-91df-aec2b5933c55",
   "metadata": {},
   "outputs": [
    {
     "name": "stdout",
     "output_type": "stream",
     "text": [
      "number is even\n"
     ]
    }
   ],
   "source": [
    "#Find and fix the error\n",
    "num= 80\n",
    "if num % 2==0:\n",
    "    print(\"number is even\")\n",
    "else:\n",
    "    print(\"number is odd\")\n",
    "    "
   ]
  },
  {
   "cell_type": "code",
   "execution_count": 57,
   "id": "64eda2c0-5da0-419d-b924-38b0797057d4",
   "metadata": {},
   "outputs": [
    {
     "name": "stdout",
     "output_type": "stream",
     "text": [
      "greater than 5\n",
      "greater than 8\n"
     ]
    }
   ],
   "source": [
    "#What will be output of this code and why?\n",
    "x=10\n",
    "if x>5:\n",
    "    print(\"greater than 5\")\n",
    "if x>8:\n",
    "    print(\"greater than 8\")\n",
    "if x > 12:\n",
    "    print(\"greater than 12\")"
   ]
  },
  {
   "cell_type": "code",
   "execution_count": null,
   "id": "7a3acc19-c917-4db2-ad64-dd84d8ebbe03",
   "metadata": {},
   "outputs": [],
   "source": []
  },
  {
   "cell_type": "code",
   "execution_count": null,
   "id": "4c2bdfa0-957f-499e-82de-4e0e76c2d15f",
   "metadata": {},
   "outputs": [],
   "source": []
  }
 ],
 "metadata": {
  "kernelspec": {
   "display_name": "Python [conda env:base] *",
   "language": "python",
   "name": "conda-base-py"
  },
  "language_info": {
   "codemirror_mode": {
    "name": "ipython",
    "version": 3
   },
   "file_extension": ".py",
   "mimetype": "text/x-python",
   "name": "python",
   "nbconvert_exporter": "python",
   "pygments_lexer": "ipython3",
   "version": "3.12.7"
  }
 },
 "nbformat": 4,
 "nbformat_minor": 5
}
